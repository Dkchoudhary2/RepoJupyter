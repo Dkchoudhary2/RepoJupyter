{
 "cells": [
  {
   "cell_type": "code",
   "execution_count": 1,
   "id": "930c5760",
   "metadata": {},
   "outputs": [],
   "source": [
    "import numpy as np"
   ]
  },
  {
   "cell_type": "code",
   "execution_count": 2,
   "id": "2a94aa5e",
   "metadata": {},
   "outputs": [],
   "source": [
    "def gradient_descent(x, y):\n",
    "    m_curr = 0\n",
    "    b_curr = 0\n",
    "    n = len(x)\n",
    "    iterations = 100000\n",
    "\n",
    "    prev_cost = 100000\n",
    "    for i in range(iterations):\n",
    "        yp = m_curr * x + b_curr\n",
    "        cost = (1 / 2) * sum([val ** 2 for val in (y - yp)])\n",
    "        m_curr = m_curr + 0.001\n",
    "        print(\"m {}, b {}, cost {}, prev_cost {} ,iteration {}\".format(m_curr, b_curr, cost,prev_cost, i))\n",
    "        prev_cost = cost\n",
    "    pass        \n"
   ]
  },
  {
   "cell_type": "code",
   "execution_count": 3,
   "id": "2667f5b5",
   "metadata": {},
   "outputs": [],
   "source": [
    "x = np.array([1,2,3,4,5])\n",
    "y = np.array([5, 7, 9, 11, 13])"
   ]
  },
  {
   "cell_type": "code",
   "execution_count": 4,
   "id": "d212ba4a",
   "metadata": {},
   "outputs": [
    {
     "name": "stdout",
     "output_type": "stream",
     "text": [
      "m 0.01, b 0, cost 222.5, prev_cost 100000 ,iteration 0\n",
      "m 0.02, b 0, cost 220.95275, prev_cost 222.5 ,iteration 1\n",
      "m 0.03, b 0, cost 219.411, prev_cost 220.95275 ,iteration 2\n",
      "m 0.04, b 0, cost 217.87475, prev_cost 219.411 ,iteration 3\n",
      "m 0.05, b 0, cost 216.34400000000002, prev_cost 217.87475 ,iteration 4\n",
      "m 0.060000000000000005, b 0, cost 214.81875000000002, prev_cost 216.34400000000002 ,iteration 5\n",
      "m 0.07, b 0, cost 213.29899999999998, prev_cost 214.81875000000002 ,iteration 6\n",
      "m 0.08, b 0, cost 211.78475000000003, prev_cost 213.29899999999998 ,iteration 7\n",
      "m 0.09, b 0, cost 210.276, prev_cost 211.78475000000003 ,iteration 8\n",
      "m 0.09999999999999999, b 0, cost 208.77275000000003, prev_cost 210.276 ,iteration 9\n"
     ]
    }
   ],
   "source": [
    "gradient_descent(x, y)"
   ]
  }
 ],
 "metadata": {
  "kernelspec": {
   "display_name": "Python 3",
   "language": "python",
   "name": "python3"
  },
  "language_info": {
   "codemirror_mode": {
    "name": "ipython",
    "version": 3
   },
   "file_extension": ".py",
   "mimetype": "text/x-python",
   "name": "python",
   "nbconvert_exporter": "python",
   "pygments_lexer": "ipython3",
   "version": "3.9.5"
  }
 },
 "nbformat": 4,
 "nbformat_minor": 5
}
