{
 "cells": [
  {
   "cell_type": "code",
   "execution_count": null,
   "id": "dd1bb690",
   "metadata": {},
   "outputs": [],
   "source": [
    "import pandas as pd"
   ]
  },
  {
   "cell_type": "code",
   "execution_count": null,
   "id": "7fe7840b",
   "metadata": {},
   "outputs": [],
   "source": [
    "df = pd.read_csv('homeprices.csv')\n",
    "df"
   ]
  },
  {
   "cell_type": "code",
   "execution_count": null,
   "id": "81405bca",
   "metadata": {},
   "outputs": [],
   "source": [
    "dummies  = pd.get_dummies(df.town)\n",
    "dummies"
   ]
  },
  {
   "cell_type": "code",
   "execution_count": null,
   "id": "b1272ca8",
   "metadata": {},
   "outputs": [],
   "source": [
    "df_dummies = pd.concat([df,dummies],axis='columns')\n",
    "df_dummies"
   ]
  },
  {
   "cell_type": "code",
   "execution_count": null,
   "id": "ef6d683e",
   "metadata": {},
   "outputs": [],
   "source": [
    "df_dummies.drop(['town','west windsor'],axis='columns',inplace=True)\n",
    "df_dummies"
   ]
  },
  {
   "cell_type": "code",
   "execution_count": null,
   "id": "84c137c8",
   "metadata": {},
   "outputs": [],
   "source": [
    "X = df_dummies.drop('price',axis='columns')\n",
    "X"
   ]
  },
  {
   "cell_type": "code",
   "execution_count": null,
   "id": "e95f78e1",
   "metadata": {},
   "outputs": [],
   "source": [
    "y = df_dummies.price\n",
    "y"
   ]
  },
  {
   "cell_type": "code",
   "execution_count": null,
   "id": "6c20b67c",
   "metadata": {},
   "outputs": [],
   "source": [
    "from sklearn.linear_model import LinearRegression\n",
    "model = LinearRegression()\n",
    "model.fit(X,y)"
   ]
  },
  {
   "cell_type": "code",
   "execution_count": null,
   "id": "87ab2463",
   "metadata": {},
   "outputs": [],
   "source": [
    "model.predict([[3400,0,0]])"
   ]
  },
  {
   "cell_type": "code",
   "execution_count": null,
   "id": "0e59f2d7",
   "metadata": {},
   "outputs": [],
   "source": [
    "model.predict([[2800,0,1]])"
   ]
  },
  {
   "cell_type": "code",
   "execution_count": null,
   "id": "8fb79280",
   "metadata": {},
   "outputs": [],
   "source": [
    "model.predict([[2800,1,0]])"
   ]
  },
  {
   "cell_type": "code",
   "execution_count": null,
   "id": "1ba88056",
   "metadata": {},
   "outputs": [],
   "source": [
    "model.predict([[4000,1,0]])"
   ]
  },
  {
   "cell_type": "code",
   "execution_count": null,
   "id": "2b5b4048",
   "metadata": {},
   "outputs": [],
   "source": []
  },
  {
   "cell_type": "code",
   "execution_count": null,
   "id": "8236c8b5",
   "metadata": {},
   "outputs": [],
   "source": [
    "from sklearn.preprocessing import LabelEncoder\n",
    "le = LabelEncoder()"
   ]
  },
  {
   "cell_type": "code",
   "execution_count": null,
   "id": "592b7a7e",
   "metadata": {},
   "outputs": [],
   "source": [
    "df"
   ]
  },
  {
   "cell_type": "code",
   "execution_count": null,
   "id": "beac123d",
   "metadata": {},
   "outputs": [],
   "source": [
    "dfle = df\n",
    "dfle"
   ]
  },
  {
   "cell_type": "code",
   "execution_count": null,
   "id": "500f04f8",
   "metadata": {},
   "outputs": [],
   "source": [
    "dfle.town = le.fit_transform(dfle.town)\n",
    "dfle"
   ]
  },
  {
   "cell_type": "code",
   "execution_count": null,
   "id": "0caba9ec",
   "metadata": {},
   "outputs": [],
   "source": [
    "X = dfle[['town','area']]\n",
    "X"
   ]
  },
  {
   "cell_type": "code",
   "execution_count": null,
   "id": "3c325394",
   "metadata": {},
   "outputs": [],
   "source": [
    "X = dfle[['town','area']].values\n",
    "X"
   ]
  },
  {
   "cell_type": "code",
   "execution_count": null,
   "id": "4fd1a1aa",
   "metadata": {},
   "outputs": [],
   "source": [
    "y = dfle.price.values\n",
    "y"
   ]
  },
  {
   "cell_type": "code",
   "execution_count": null,
   "id": "5e88f588",
   "metadata": {},
   "outputs": [],
   "source": []
  },
  {
   "cell_type": "code",
   "execution_count": null,
   "id": "4b02231f",
   "metadata": {},
   "outputs": [],
   "source": [
    "from sklearn.preprocessing import OneHotEncoder\n",
    "ohe = OneHotEncoder(categorical_features=[0])"
   ]
  },
  {
   "cell_type": "code",
   "execution_count": null,
   "id": "010a55de",
   "metadata": {},
   "outputs": [],
   "source": []
  },
  {
   "cell_type": "code",
   "execution_count": null,
   "id": "7cb15f76",
   "metadata": {},
   "outputs": [],
   "source": [
    "from sklearn.preprocessing import OneHotEncoder\n",
    "from sklearn.compose import ColumnTransformer\n",
    "ct = ColumnTransformer([('town', OneHotEncoder(), [0])], remainder = 'passthrough')"
   ]
  },
  {
   "cell_type": "code",
   "execution_count": null,
   "id": "779d255b",
   "metadata": {},
   "outputs": [],
   "source": [
    "X = ct.fit_transform(X)\n",
    "X"
   ]
  },
  {
   "cell_type": "code",
   "execution_count": null,
   "id": "319bb4c0",
   "metadata": {},
   "outputs": [],
   "source": [
    "X = X[:]\n",
    "X"
   ]
  },
  {
   "cell_type": "code",
   "execution_count": null,
   "id": "af583c36",
   "metadata": {},
   "outputs": [],
   "source": [
    "X = X[:,1:]\n",
    "X"
   ]
  },
  {
   "cell_type": "code",
   "execution_count": null,
   "id": "f266eadd",
   "metadata": {},
   "outputs": [],
   "source": [
    "y"
   ]
  },
  {
   "cell_type": "code",
   "execution_count": null,
   "id": "06741f0f",
   "metadata": {},
   "outputs": [],
   "source": [
    "model.fit(X,y)"
   ]
  },
  {
   "cell_type": "code",
   "execution_count": null,
   "id": "ec4d1cc7",
   "metadata": {},
   "outputs": [],
   "source": [
    "model.predict([[0,1,3400]])"
   ]
  },
  {
   "cell_type": "code",
   "execution_count": null,
   "id": "2a0e7075",
   "metadata": {},
   "outputs": [],
   "source": [
    "model.predict([[1,0,2800]])"
   ]
  },
  {
   "cell_type": "code",
   "execution_count": null,
   "id": "c32cc7ce",
   "metadata": {},
   "outputs": [],
   "source": [
    "model.score(X,y)"
   ]
  }
 ],
 "metadata": {
  "kernelspec": {
   "display_name": "Python 3",
   "language": "python",
   "name": "python3"
  },
  "language_info": {
   "codemirror_mode": {
    "name": "ipython",
    "version": 3
   },
   "file_extension": ".py",
   "mimetype": "text/x-python",
   "name": "python",
   "nbconvert_exporter": "python",
   "pygments_lexer": "ipython3",
   "version": "3.9.5"
  }
 },
 "nbformat": 4,
 "nbformat_minor": 5
}
