{
 "cells": [
  {
   "cell_type": "code",
   "execution_count": null,
   "id": "17d2dbfa",
   "metadata": {},
   "outputs": [],
   "source": [
    "import pandas as pd\n",
    "from sklearn.datasets import load_iris\n",
    "iris = load_iris()"
   ]
  },
  {
   "cell_type": "code",
   "execution_count": null,
   "id": "e373dac1",
   "metadata": {},
   "outputs": [],
   "source": [
    "iris"
   ]
  },
  {
   "cell_type": "code",
   "execution_count": null,
   "id": "71056ebb",
   "metadata": {},
   "outputs": [],
   "source": []
  },
  {
   "cell_type": "code",
   "execution_count": null,
   "id": "9b1a777b",
   "metadata": {},
   "outputs": [],
   "source": [
    "dir(iris)"
   ]
  },
  {
   "cell_type": "code",
   "execution_count": null,
   "id": "7c33529d",
   "metadata": {},
   "outputs": [],
   "source": [
    "iris.DESCR"
   ]
  },
  {
   "cell_type": "code",
   "execution_count": null,
   "id": "49fe8f94",
   "metadata": {},
   "outputs": [],
   "source": [
    "iris.data"
   ]
  },
  {
   "cell_type": "code",
   "execution_count": null,
   "id": "ef184f1c",
   "metadata": {},
   "outputs": [],
   "source": [
    "iris.data_module"
   ]
  },
  {
   "cell_type": "code",
   "execution_count": null,
   "id": "515d6b90",
   "metadata": {},
   "outputs": [],
   "source": [
    "iris.feature_names"
   ]
  },
  {
   "cell_type": "code",
   "execution_count": null,
   "id": "332254f6",
   "metadata": {},
   "outputs": [],
   "source": [
    "iris.filename"
   ]
  },
  {
   "cell_type": "code",
   "execution_count": null,
   "id": "be965a5a",
   "metadata": {},
   "outputs": [],
   "source": [
    "iris.frame"
   ]
  },
  {
   "cell_type": "code",
   "execution_count": null,
   "id": "2d5868dc",
   "metadata": {},
   "outputs": [],
   "source": [
    "iris.target"
   ]
  },
  {
   "cell_type": "code",
   "execution_count": null,
   "id": "922af158",
   "metadata": {},
   "outputs": [],
   "source": [
    "iris.target_names"
   ]
  },
  {
   "cell_type": "code",
   "execution_count": null,
   "id": "9cb2c7b8",
   "metadata": {},
   "outputs": [],
   "source": [
    "iris.feature_names"
   ]
  },
  {
   "cell_type": "code",
   "execution_count": null,
   "id": "a4a5634a",
   "metadata": {},
   "outputs": [],
   "source": [
    "len(iris.data)"
   ]
  },
  {
   "cell_type": "code",
   "execution_count": null,
   "id": "f253166a",
   "metadata": {},
   "outputs": [],
   "source": [
    "df = pd.DataFrame(iris.data)\n",
    "df"
   ]
  },
  {
   "cell_type": "code",
   "execution_count": null,
   "id": "aca346ee",
   "metadata": {},
   "outputs": [],
   "source": [
    "df = pd.DataFrame(iris.data,columns=iris.feature_names)\n",
    "df"
   ]
  },
  {
   "cell_type": "code",
   "execution_count": null,
   "id": "74a3f31a",
   "metadata": {},
   "outputs": [],
   "source": [
    "df.head()"
   ]
  },
  {
   "cell_type": "code",
   "execution_count": null,
   "id": "5eb0d362",
   "metadata": {},
   "outputs": [],
   "source": [
    "df['target'] = iris.target\n",
    "df.head()"
   ]
  },
  {
   "cell_type": "code",
   "execution_count": null,
   "id": "0f1c0197",
   "metadata": {},
   "outputs": [],
   "source": [
    "df"
   ]
  },
  {
   "cell_type": "code",
   "execution_count": null,
   "id": "4868188d",
   "metadata": {},
   "outputs": [],
   "source": [
    "iris.target"
   ]
  },
  {
   "cell_type": "code",
   "execution_count": null,
   "id": "b1616f73",
   "metadata": {},
   "outputs": [],
   "source": [
    "df[df.target==1].head()"
   ]
  },
  {
   "cell_type": "code",
   "execution_count": null,
   "id": "6553c5a6",
   "metadata": {},
   "outputs": [],
   "source": [
    "df[df.target==1]"
   ]
  },
  {
   "cell_type": "code",
   "execution_count": null,
   "id": "cdd54ea9",
   "metadata": {},
   "outputs": [],
   "source": [
    "df[df.target==2]"
   ]
  },
  {
   "cell_type": "code",
   "execution_count": null,
   "id": "52828f5b",
   "metadata": {},
   "outputs": [],
   "source": [
    "df[df.target==0].head()"
   ]
  },
  {
   "cell_type": "code",
   "execution_count": null,
   "id": "5ed5020c",
   "metadata": {},
   "outputs": [],
   "source": [
    "df['flower_name'] = df.target.apply(lambda x: iris.target_names[x])\n",
    "df.head()"
   ]
  },
  {
   "cell_type": "code",
   "execution_count": null,
   "id": "259ee775",
   "metadata": {},
   "outputs": [],
   "source": [
    "df[45:55]"
   ]
  },
  {
   "cell_type": "code",
   "execution_count": null,
   "id": "68b8a06d",
   "metadata": {},
   "outputs": [],
   "source": [
    "df0 = df[:50]\n",
    "df1 = df[50:100]\n",
    "df2 = df[100:]"
   ]
  },
  {
   "cell_type": "code",
   "execution_count": null,
   "id": "953990f4",
   "metadata": {},
   "outputs": [],
   "source": [
    "df0"
   ]
  },
  {
   "cell_type": "code",
   "execution_count": null,
   "id": "8197d06c",
   "metadata": {},
   "outputs": [],
   "source": [
    "df1"
   ]
  },
  {
   "cell_type": "code",
   "execution_count": null,
   "id": "2475cdf7",
   "metadata": {},
   "outputs": [],
   "source": [
    "df2"
   ]
  },
  {
   "cell_type": "code",
   "execution_count": null,
   "id": "bcf7014e",
   "metadata": {},
   "outputs": [],
   "source": [
    "import matplotlib.pyplot as plt\n",
    "%matplotlib inline"
   ]
  },
  {
   "cell_type": "code",
   "execution_count": null,
   "id": "1144b79d",
   "metadata": {},
   "outputs": [],
   "source": [
    "plt.xlabel('Sapel length')\n",
    "plt.ylabel('Sapel width')\n"
   ]
  },
  {
   "cell_type": "code",
   "execution_count": null,
   "id": "08f3328d",
   "metadata": {},
   "outputs": [],
   "source": [
    "plt.scatter(df0['sepal length (cm)'],df0['sepal width (cm)'],color= \"green\",marker = \"+\")"
   ]
  },
  {
   "cell_type": "code",
   "execution_count": null,
   "id": "2c0879b5",
   "metadata": {},
   "outputs": [],
   "source": [
    "plt.scatter(df2['sepal length (cm)'],df2['sepal width (cm)'],color= \"yellow\",marker = \"+\")"
   ]
  },
  {
   "cell_type": "code",
   "execution_count": null,
   "id": "045cca09",
   "metadata": {},
   "outputs": [],
   "source": [
    "plt.scatter(df0['sepal length (cm)'],df0['sepal width (cm)'],color= \"green\",marker = \"+\")\n",
    "plt.scatter(df1['sepal length (cm)'],df1['sepal width (cm)'],color= \"blue\",marker = \".\")\n",
    "plt.scatter(df2['sepal length (cm)'],df2['sepal width (cm)'],color= \"red\",marker = \"+\")"
   ]
  },
  {
   "cell_type": "code",
   "execution_count": null,
   "id": "6b5ba376",
   "metadata": {},
   "outputs": [],
   "source": [
    "plt.scatter(df0['sepal length (cm)'],df0['sepal width (cm)'],color= \"green\",marker = \"+\")\n",
    "plt.scatter(df1['sepal length (cm)'],df1['sepal width (cm)'],color= \"blue\",marker = \".\")\n"
   ]
  },
  {
   "cell_type": "code",
   "execution_count": null,
   "id": "10def49c",
   "metadata": {},
   "outputs": [],
   "source": []
  },
  {
   "cell_type": "code",
   "execution_count": null,
   "id": "99cf86e3",
   "metadata": {},
   "outputs": [],
   "source": [
    "plt.xlabel('Petal length')\n",
    "plt.ylabel('Petal width')\n"
   ]
  },
  {
   "cell_type": "code",
   "execution_count": null,
   "id": "5897650b",
   "metadata": {},
   "outputs": [],
   "source": [
    "plt.scatter(df0['petal length (cm)'],df0['petal width (cm)'],color= \"green\",marker = \"+\")"
   ]
  },
  {
   "cell_type": "code",
   "execution_count": null,
   "id": "51892c43",
   "metadata": {},
   "outputs": [],
   "source": [
    "plt.scatter(df1['petal length (cm)'],df1['petal width (cm)'],color= \"red\",marker = \".\")"
   ]
  },
  {
   "cell_type": "code",
   "execution_count": null,
   "id": "d858b1bd",
   "metadata": {},
   "outputs": [],
   "source": [
    "plt.scatter(df0['petal length (cm)'],df0['petal width (cm)'],color= \"green\",marker = \"+\")\n",
    "plt.scatter(df1['petal length (cm)'],df1['petal width (cm)'],color= \"red\",marker = \".\")\n"
   ]
  },
  {
   "cell_type": "code",
   "execution_count": null,
   "id": "956cfe71",
   "metadata": {},
   "outputs": [],
   "source": [
    "plt.xlabel('Petal length')\n",
    "plt.ylabel('Petal width')\n",
    "plt.scatter(df0['petal length (cm)'],df0['petal width (cm)'],color= \"green\",marker = \"+\")\n",
    "plt.scatter(df1['petal length (cm)'],df1['petal width (cm)'],color= \"red\",marker = \".\")\n"
   ]
  },
  {
   "cell_type": "code",
   "execution_count": null,
   "id": "d77d6dea",
   "metadata": {},
   "outputs": [],
   "source": [
    "plt.xlabel('Petal length')\n",
    "plt.ylabel('Petal width')\n",
    "plt.scatter(df0['petal length (cm)'],df0['petal width (cm)'],color= \"green\",marker = \"+\")\n",
    "plt.scatter(df1['petal length (cm)'],df1['petal width (cm)'],color= \"red\",marker = \".\")\n",
    "plt.scatter(df2['petal length (cm)'],df2['petal width (cm)'],color= \"blue\",marker = \"+\")\n"
   ]
  },
  {
   "cell_type": "code",
   "execution_count": null,
   "id": "91a38fc4",
   "metadata": {},
   "outputs": [],
   "source": [
    "plt.xlabel('Petal length')\n",
    "plt.ylabel('Petal width')\n",
    "plt.scatter(df0['petal length (cm)'],df0['petal width (cm)'],color= \"green\",marker = \"+\")\n",
    "plt.scatter(df1['petal length (cm)'],df1['petal width (cm)'],color= \"red\",marker = \".\")\n"
   ]
  },
  {
   "cell_type": "code",
   "execution_count": null,
   "id": "c4dd143a",
   "metadata": {},
   "outputs": [],
   "source": [
    "df"
   ]
  },
  {
   "cell_type": "code",
   "execution_count": null,
   "id": "385e53b3",
   "metadata": {},
   "outputs": [],
   "source": [
    "X = df.drop(['target','flower_name'],axis='columns')\n",
    "y = df.target"
   ]
  },
  {
   "cell_type": "code",
   "execution_count": null,
   "id": "b85d46a8",
   "metadata": {},
   "outputs": [],
   "source": [
    "X"
   ]
  },
  {
   "cell_type": "code",
   "execution_count": null,
   "id": "c263e5c7",
   "metadata": {},
   "outputs": [],
   "source": [
    "y"
   ]
  },
  {
   "cell_type": "code",
   "execution_count": null,
   "id": "b0ae2b53",
   "metadata": {},
   "outputs": [],
   "source": [
    "from sklearn.model_selection import train_test_split\n"
   ]
  },
  {
   "cell_type": "code",
   "execution_count": null,
   "id": "9ecbea3a",
   "metadata": {},
   "outputs": [],
   "source": [
    "X_train,X_test,y_train,y_test =  train_test_split(X,y,test_size=0.2)"
   ]
  },
  {
   "cell_type": "code",
   "execution_count": null,
   "id": "6ef435d0",
   "metadata": {},
   "outputs": [],
   "source": [
    "X_train"
   ]
  },
  {
   "cell_type": "code",
   "execution_count": null,
   "id": "d52c8f53",
   "metadata": {},
   "outputs": [],
   "source": [
    "X_test"
   ]
  },
  {
   "cell_type": "code",
   "execution_count": null,
   "id": "47000dbe",
   "metadata": {},
   "outputs": [],
   "source": [
    "y_train"
   ]
  },
  {
   "cell_type": "code",
   "execution_count": null,
   "id": "be29b5c8",
   "metadata": {},
   "outputs": [],
   "source": [
    "y_test"
   ]
  },
  {
   "cell_type": "code",
   "execution_count": null,
   "id": "a9d6ed23",
   "metadata": {},
   "outputs": [],
   "source": [
    "len(X_train)"
   ]
  },
  {
   "cell_type": "code",
   "execution_count": null,
   "id": "8b883e32",
   "metadata": {},
   "outputs": [],
   "source": [
    "len(X_test)"
   ]
  },
  {
   "cell_type": "code",
   "execution_count": null,
   "id": "e287f106",
   "metadata": {},
   "outputs": [],
   "source": [
    "from sklearn.svm import SVC\n",
    "model = SVC()"
   ]
  },
  {
   "cell_type": "code",
   "execution_count": null,
   "id": "96fd806b",
   "metadata": {},
   "outputs": [],
   "source": [
    "model"
   ]
  },
  {
   "cell_type": "code",
   "execution_count": null,
   "id": "e24732fd",
   "metadata": {},
   "outputs": [],
   "source": [
    "model.fit(X_train,y_train)"
   ]
  },
  {
   "cell_type": "code",
   "execution_count": null,
   "id": "0a5dd5f7",
   "metadata": {},
   "outputs": [],
   "source": [
    "model.score(X_test,y_test)"
   ]
  },
  {
   "cell_type": "code",
   "execution_count": null,
   "id": "66d4cc4f",
   "metadata": {},
   "outputs": [],
   "source": [
    "X_test"
   ]
  },
  {
   "cell_type": "code",
   "execution_count": null,
   "id": "b1946263",
   "metadata": {},
   "outputs": [],
   "source": [
    "model.predict([[4.8,3.0,1.4,0.3]])"
   ]
  },
  {
   "cell_type": "code",
   "execution_count": null,
   "id": "1ad19cb6",
   "metadata": {},
   "outputs": [],
   "source": [
    "model.predict([[6.2,3.4,5.4,2.3]])"
   ]
  },
  {
   "cell_type": "code",
   "execution_count": null,
   "id": "3e5bef9f",
   "metadata": {},
   "outputs": [],
   "source": []
  },
  {
   "cell_type": "code",
   "execution_count": null,
   "id": "5dbb1196",
   "metadata": {},
   "outputs": [],
   "source": [
    "model_C = SVC(C=10)\n",
    "model_C.fit(X_train,y_train)\n",
    "model_C.score(X_test,y_test)"
   ]
  },
  {
   "cell_type": "code",
   "execution_count": null,
   "id": "ea1f07f3",
   "metadata": {},
   "outputs": [],
   "source": [
    "model_C = SVC(C=15)\n",
    "model_C.fit(X_train,y_train)\n",
    "model_C.score(X_test,y_test)"
   ]
  },
  {
   "cell_type": "code",
   "execution_count": null,
   "id": "a84dbab1",
   "metadata": {},
   "outputs": [],
   "source": [
    "model_C = SVC(C=20)\n",
    "model_C.fit(X_train,y_train)\n",
    "model_C.score(X_test,y_test)"
   ]
  },
  {
   "cell_type": "code",
   "execution_count": null,
   "id": "c5d136f3",
   "metadata": {},
   "outputs": [],
   "source": [
    "model_C = SVC(C=5)\n",
    "model_C.fit(X_train,y_train)\n",
    "model_C.score(X_test,y_test)"
   ]
  },
  {
   "cell_type": "code",
   "execution_count": null,
   "id": "8ec16efb",
   "metadata": {},
   "outputs": [],
   "source": [
    "model_C = SVC(C=2)\n",
    "model_C.fit(X_train,y_train)\n",
    "model_C.score(X_test,y_test)"
   ]
  },
  {
   "cell_type": "code",
   "execution_count": null,
   "id": "20769c90",
   "metadata": {},
   "outputs": [],
   "source": [
    "model_C = SVC(C=0.1)\n",
    "model_C.fit(X_train,y_train)\n",
    "model_C.score(X_test,y_test)"
   ]
  },
  {
   "cell_type": "code",
   "execution_count": null,
   "id": "d0ed4022",
   "metadata": {},
   "outputs": [],
   "source": [
    "model_C = SVC(C=50)\n",
    "model_C.fit(X_train,y_train)\n",
    "model_C.score(X_test,y_test)"
   ]
  },
  {
   "cell_type": "code",
   "execution_count": null,
   "id": "a1cd5036",
   "metadata": {},
   "outputs": [],
   "source": [
    "model_g = SVC(gamma=10)\n",
    "model_g.fit(X_train,y_train)\n",
    "model_g.score(X_test,y_test)"
   ]
  },
  {
   "cell_type": "code",
   "execution_count": null,
   "id": "f4d9421c",
   "metadata": {},
   "outputs": [],
   "source": [
    "model_g = SVC(gamma=15)\n",
    "model_g.fit(X_train,y_train)\n",
    "model_g.score(X_test,y_test)"
   ]
  },
  {
   "cell_type": "code",
   "execution_count": null,
   "id": "1d2f6d89",
   "metadata": {},
   "outputs": [],
   "source": [
    "model_g = SVC(gamma=4)\n",
    "model_g.fit(X_train,y_train)\n",
    "model_g.score(X_test,y_test)"
   ]
  },
  {
   "cell_type": "code",
   "execution_count": null,
   "id": "dcf72ba5",
   "metadata": {},
   "outputs": [],
   "source": []
  },
  {
   "cell_type": "code",
   "execution_count": null,
   "id": "c94e2c69",
   "metadata": {},
   "outputs": [],
   "source": [
    "model_linear_kernel = SVC(kernel='linear')\n",
    "model_linear_kernel.fit(X_train,y_train)\n",
    "\n"
   ]
  },
  {
   "cell_type": "code",
   "execution_count": null,
   "id": "b9069251",
   "metadata": {},
   "outputs": [],
   "source": [
    "model_linear_kernel.score(X_test,y_test)"
   ]
  },
  {
   "cell_type": "code",
   "execution_count": null,
   "id": "42bb1cdb",
   "metadata": {},
   "outputs": [],
   "source": []
  },
  {
   "cell_type": "code",
   "execution_count": null,
   "id": "a45ebaca",
   "metadata": {},
   "outputs": [],
   "source": []
  }
 ],
 "metadata": {
  "kernelspec": {
   "display_name": "Python 3",
   "language": "python",
   "name": "python3"
  },
  "language_info": {
   "codemirror_mode": {
    "name": "ipython",
    "version": 3
   },
   "file_extension": ".py",
   "mimetype": "text/x-python",
   "name": "python",
   "nbconvert_exporter": "python",
   "pygments_lexer": "ipython3",
   "version": "3.9.5"
  }
 },
 "nbformat": 4,
 "nbformat_minor": 5
}
