{
 "cells": [
  {
   "cell_type": "code",
   "execution_count": null,
   "id": "b0310c5f",
   "metadata": {},
   "outputs": [],
   "source": [
    "import pandas as pd\n",
    "import numpy as np\n",
    "from sklearn import linear_model\n",
    "import matplotlib.pyplot as plt\n"
   ]
  },
  {
   "cell_type": "code",
   "execution_count": null,
   "id": "7823621b",
   "metadata": {},
   "outputs": [],
   "source": [
    "df = pd.read_csv(\"canada_per_capita_income.csv\")\n",
    "df\n"
   ]
  },
  {
   "cell_type": "code",
   "execution_count": null,
   "id": "a5226186",
   "metadata": {},
   "outputs": [],
   "source": [
    "plt.xlabel('year')\n",
    "plt.ylabel('income')\n",
    "plt.scatter(df.year,df['per capita income (US$)'],color='red',marker='+')\n"
   ]
  },
  {
   "cell_type": "code",
   "execution_count": null,
   "id": "9b09119e",
   "metadata": {},
   "outputs": [],
   "source": [
    "new_df = df.drop('per capita income (US$)',axis='columns')\n",
    "new_df\n"
   ]
  },
  {
   "cell_type": "code",
   "execution_count": null,
   "id": "84bd46bb",
   "metadata": {},
   "outputs": [],
   "source": [
    "model = linear_model.LinearRegression()\n",
    "model"
   ]
  },
  {
   "cell_type": "code",
   "execution_count": null,
   "id": "3d1b995c",
   "metadata": {},
   "outputs": [],
   "source": [
    "model.fit(new_df,df['per capita income (US$)'])"
   ]
  },
  {
   "cell_type": "code",
   "execution_count": null,
   "id": "5c8bb9d0",
   "metadata": {},
   "outputs": [],
   "source": [
    "model.predict([[2022]])"
   ]
  },
  {
   "cell_type": "code",
   "execution_count": null,
   "id": "92a30629",
   "metadata": {},
   "outputs": [],
   "source": [
    "model.predict([[2025]])"
   ]
  },
  {
   "cell_type": "code",
   "execution_count": null,
   "id": "83df4b78",
   "metadata": {},
   "outputs": [],
   "source": [
    "model.predict([[1970]])"
   ]
  },
  {
   "cell_type": "code",
   "execution_count": null,
   "id": "87718437",
   "metadata": {},
   "outputs": [],
   "source": [
    "model.coef_"
   ]
  },
  {
   "cell_type": "code",
   "execution_count": null,
   "id": "45e51d92",
   "metadata": {},
   "outputs": [],
   "source": [
    "model.intercept_"
   ]
  },
  {
   "cell_type": "code",
   "execution_count": null,
   "id": "52851ea8",
   "metadata": {},
   "outputs": [],
   "source": [
    "828.46507522*2022 -1632210.7578554575"
   ]
  },
  {
   "cell_type": "code",
   "execution_count": null,
   "id": "3f7197fa",
   "metadata": {},
   "outputs": [],
   "source": [
    "828.46507522*2025  -1632210.7578554575"
   ]
  },
  {
   "cell_type": "code",
   "execution_count": null,
   "id": "8c59c344",
   "metadata": {},
   "outputs": [],
   "source": [
    "828.46507522*1970  -1632210.7578554575"
   ]
  },
  {
   "cell_type": "code",
   "execution_count": null,
   "id": "70106d23",
   "metadata": {},
   "outputs": [],
   "source": [
    "year_df = pd.read_csv(\"canada_year.csv\")\n",
    "year_df"
   ]
  },
  {
   "cell_type": "code",
   "execution_count": null,
   "id": "161f17e9",
   "metadata": {},
   "outputs": [],
   "source": [
    "p=model.predict(year_df)\n",
    "p"
   ]
  },
  {
   "cell_type": "code",
   "execution_count": null,
   "id": "51a0e2f3",
   "metadata": {},
   "outputs": [],
   "source": [
    "year_df['income']=p\n",
    "year_df"
   ]
  },
  {
   "cell_type": "code",
   "execution_count": null,
   "id": "62f368a1",
   "metadata": {},
   "outputs": [],
   "source": [
    "year_df.to_csv(\"prediction_income.csv\")"
   ]
  },
  {
   "cell_type": "code",
   "execution_count": null,
   "id": "16e5c7f9",
   "metadata": {},
   "outputs": [],
   "source": [
    "prediction_df = pd.read_csv(\"prediction_income.csv\")\n",
    "prediction_df"
   ]
  }
 ],
 "metadata": {
  "kernelspec": {
   "display_name": "Python 3",
   "language": "python",
   "name": "python3"
  },
  "language_info": {
   "codemirror_mode": {
    "name": "ipython",
    "version": 3
   },
   "file_extension": ".py",
   "mimetype": "text/x-python",
   "name": "python",
   "nbconvert_exporter": "python",
   "pygments_lexer": "ipython3",
   "version": "3.9.5"
  }
 },
 "nbformat": 4,
 "nbformat_minor": 5
}
