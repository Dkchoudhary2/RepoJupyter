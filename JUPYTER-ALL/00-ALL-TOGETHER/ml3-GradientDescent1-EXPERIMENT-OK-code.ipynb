{
 "cells": [
  {
   "cell_type": "code",
   "execution_count": null,
   "id": "35224c55",
   "metadata": {},
   "outputs": [],
   "source": [
    "import numpy as np\n",
    "import matplotlib.pyplot as plt"
   ]
  },
  {
   "cell_type": "code",
   "execution_count": null,
   "id": "a77d348b",
   "metadata": {},
   "outputs": [],
   "source": [
    "%matplotlib inline\n",
    "def gradient_descent(x,y):\n",
    "    m_curr = b_curr = 0\n",
    "    rate = 0.01\n",
    "    n = len(x)\n",
    "    plt.scatter(x,y,color = 'red',marker = '+',linewidth = 5)\n",
    "    for i in range(1000):\n",
    "        y_predicted = m_curr * x + b_curr\n",
    "        \n",
    "        cost = (1 / 2) * sum([val ** 2 for val in (y - y_predicted)]) #MYSELF\n",
    "        \n",
    "        print(m_curr,b_curr,i,cost)\n",
    "        \n",
    "        plt.plot(x,y_predicted,color='green')\n",
    "        \n",
    "        md = -(2/n)*sum(x*(y-y_predicted))\n",
    "        yd = -(2/n)*sum(y-y_predicted)\n",
    "        \n",
    "        m_curr = m_curr -rate * md\n",
    "        b_curr = b_curr -rate * yd\n",
    "        \n"
   ]
  },
  {
   "cell_type": "code",
   "execution_count": null,
   "id": "6cfc516a",
   "metadata": {},
   "outputs": [],
   "source": [
    "x = np.array([1,2,3,4,5])        \n",
    "y = np.array([5,7,9,11,13])        "
   ]
  },
  {
   "cell_type": "code",
   "execution_count": null,
   "id": "d5282b98",
   "metadata": {},
   "outputs": [],
   "source": [
    "plt.scatter(x,y,color = 'red',marker = '+',linewidth = 5)\n",
    "#plt.scatter(x,y,color = 'red',marker = '+',linewidth = 10)"
   ]
  },
  {
   "cell_type": "code",
   "execution_count": null,
   "id": "198180ae",
   "metadata": {},
   "outputs": [],
   "source": [
    "plt.plot(x,y,color='green')"
   ]
  },
  {
   "cell_type": "code",
   "execution_count": null,
   "id": "e9aeb580",
   "metadata": {},
   "outputs": [],
   "source": [
    "plt.plot(x,y+5,color='yellow')\n",
    "plt.plot(x,y+10,color='yellow')\n",
    "plt.plot(x,y+15,color='red')\n",
    "plt.plot(x,y+20,color='yellow')\n",
    "plt.plot(x,y+55,color='green')"
   ]
  },
  {
   "cell_type": "code",
   "execution_count": null,
   "id": "547c207a",
   "metadata": {},
   "outputs": [],
   "source": [
    "gradient_descent(x,y)"
   ]
  }
 ],
 "metadata": {
  "kernelspec": {
   "display_name": "Python 3",
   "language": "python",
   "name": "python3"
  },
  "language_info": {
   "codemirror_mode": {
    "name": "ipython",
    "version": 3
   },
   "file_extension": ".py",
   "mimetype": "text/x-python",
   "name": "python",
   "nbconvert_exporter": "python",
   "pygments_lexer": "ipython3",
   "version": "3.9.5"
  }
 },
 "nbformat": 4,
 "nbformat_minor": 5
}
