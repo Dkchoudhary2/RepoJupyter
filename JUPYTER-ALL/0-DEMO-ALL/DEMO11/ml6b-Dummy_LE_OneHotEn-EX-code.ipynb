{
 "cells": [
  {
   "cell_type": "code",
   "execution_count": null,
   "id": "b91729b4",
   "metadata": {},
   "outputs": [],
   "source": [
    "import pandas as pd\n"
   ]
  },
  {
   "cell_type": "code",
   "execution_count": null,
   "id": "48f69ada",
   "metadata": {},
   "outputs": [],
   "source": [
    "df = pd.read_csv('carprices.csv')\n",
    "df"
   ]
  },
  {
   "cell_type": "code",
   "execution_count": null,
   "id": "8ac0e4e9",
   "metadata": {},
   "outputs": [],
   "source": [
    "df['Car Model']"
   ]
  },
  {
   "cell_type": "code",
   "execution_count": null,
   "id": "62346c3d",
   "metadata": {},
   "outputs": [],
   "source": [
    "df.Mileage"
   ]
  },
  {
   "cell_type": "code",
   "execution_count": null,
   "id": "28cdde8c",
   "metadata": {},
   "outputs": [],
   "source": [
    "df['Mileage']"
   ]
  },
  {
   "cell_type": "code",
   "execution_count": null,
   "id": "6f7417a6",
   "metadata": {},
   "outputs": [],
   "source": [
    "df['Sell Price($)']"
   ]
  },
  {
   "cell_type": "code",
   "execution_count": null,
   "id": "b7017f1f",
   "metadata": {},
   "outputs": [],
   "source": [
    "df['Age(yrs)']"
   ]
  },
  {
   "cell_type": "code",
   "execution_count": null,
   "id": "ed73e3bd",
   "metadata": {},
   "outputs": [],
   "source": [
    "import matplotlib.pyplot as plt"
   ]
  },
  {
   "cell_type": "code",
   "execution_count": null,
   "id": "2735b118",
   "metadata": {},
   "outputs": [],
   "source": [
    "plt.xlabel('MILEAGE')\n",
    "plt.ylabel('SELLING PRICE')\n",
    "plt.scatter(df.Mileage,df['Sell Price($)'],color='red',marker='+')"
   ]
  },
  {
   "cell_type": "code",
   "execution_count": null,
   "id": "5038272c",
   "metadata": {},
   "outputs": [],
   "source": [
    "plt.xlabel('AGE OF CAR')\n",
    "plt.ylabel('SELLING PRICE')\n",
    "plt.scatter(df['Age(yrs)'],df['Sell Price($)'],color='green',marker='*')"
   ]
  },
  {
   "cell_type": "code",
   "execution_count": null,
   "id": "930df642",
   "metadata": {},
   "outputs": [],
   "source": []
  },
  {
   "cell_type": "code",
   "execution_count": null,
   "id": "be3f44ad",
   "metadata": {},
   "outputs": [],
   "source": [
    "df"
   ]
  },
  {
   "cell_type": "code",
   "execution_count": null,
   "id": "a91b9c19",
   "metadata": {},
   "outputs": [],
   "source": [
    "dummies = pd.get_dummies(df['Car Model'])\n",
    "dummies"
   ]
  },
  {
   "cell_type": "code",
   "execution_count": null,
   "id": "79dfd1a6",
   "metadata": {},
   "outputs": [],
   "source": [
    "df_dummies = pd.concat([df,dummies],axis='columns')\n",
    "df_dummies"
   ]
  },
  {
   "cell_type": "code",
   "execution_count": null,
   "id": "34e2457f",
   "metadata": {},
   "outputs": [],
   "source": [
    "df_dummies.drop(['Car Model','Mercedez Benz C class'],axis='columns',inplace=True)\n",
    "df_dummies"
   ]
  },
  {
   "cell_type": "code",
   "execution_count": null,
   "id": "27fb279f",
   "metadata": {},
   "outputs": [],
   "source": [
    "X = df_dummies.drop('Sell Price($)',axis='columns')\n",
    "X"
   ]
  },
  {
   "cell_type": "code",
   "execution_count": null,
   "id": "7f581e33",
   "metadata": {},
   "outputs": [],
   "source": [
    "y = df_dummies['Sell Price($)']\n",
    "y"
   ]
  },
  {
   "cell_type": "code",
   "execution_count": null,
   "id": "9422cd75",
   "metadata": {},
   "outputs": [],
   "source": []
  },
  {
   "cell_type": "code",
   "execution_count": null,
   "id": "3f98cf86",
   "metadata": {},
   "outputs": [],
   "source": [
    "y = df_dummies['Sell Price($)'].values\n",
    "y"
   ]
  },
  {
   "cell_type": "code",
   "execution_count": null,
   "id": "b8fb88d8",
   "metadata": {},
   "outputs": [],
   "source": [
    "X"
   ]
  },
  {
   "cell_type": "code",
   "execution_count": null,
   "id": "5d67c6c7",
   "metadata": {},
   "outputs": [],
   "source": [
    "y"
   ]
  },
  {
   "cell_type": "code",
   "execution_count": null,
   "id": "e2e5d7e4",
   "metadata": {},
   "outputs": [],
   "source": [
    "from sklearn.linear_model import LinearRegression\n",
    "model = LinearRegression()\n",
    "model.fit(X,y)"
   ]
  },
  {
   "cell_type": "code",
   "execution_count": null,
   "id": "4d5ef243",
   "metadata": {},
   "outputs": [],
   "source": []
  },
  {
   "cell_type": "code",
   "execution_count": null,
   "id": "425df73e",
   "metadata": {},
   "outputs": [],
   "source": [
    "model.coef_"
   ]
  },
  {
   "cell_type": "code",
   "execution_count": null,
   "id": "2adf1f5a",
   "metadata": {},
   "outputs": [],
   "source": []
  },
  {
   "cell_type": "code",
   "execution_count": null,
   "id": "7ab8ddaf",
   "metadata": {},
   "outputs": [],
   "source": [
    "X\n"
   ]
  },
  {
   "cell_type": "code",
   "execution_count": null,
   "id": "f7c98f27",
   "metadata": {},
   "outputs": [],
   "source": [
    "X_M = X.drop(['Age(yrs)','Audi A5','BMW X5'],axis='columns')\n",
    "X_M"
   ]
  },
  {
   "cell_type": "code",
   "execution_count": null,
   "id": "320e95cd",
   "metadata": {},
   "outputs": [],
   "source": [
    "X_MA = X.drop(['Audi A5','BMW X5'],axis='columns')\n",
    "X_MA"
   ]
  },
  {
   "cell_type": "code",
   "execution_count": null,
   "id": "0bdc5aa5",
   "metadata": {},
   "outputs": [],
   "source": [
    "X"
   ]
  },
  {
   "cell_type": "code",
   "execution_count": null,
   "id": "c5a0a322",
   "metadata": {},
   "outputs": [],
   "source": [
    "X_M"
   ]
  },
  {
   "cell_type": "code",
   "execution_count": null,
   "id": "6aabf1d9",
   "metadata": {},
   "outputs": [],
   "source": [
    "X_MA"
   ]
  },
  {
   "cell_type": "code",
   "execution_count": null,
   "id": "59f55306",
   "metadata": {},
   "outputs": [],
   "source": [
    "y"
   ]
  },
  {
   "cell_type": "code",
   "execution_count": null,
   "id": "293f6b80",
   "metadata": {},
   "outputs": [],
   "source": [
    "from sklearn.linear_model import LinearRegression\n",
    "model = LinearRegression()\n",
    "model.fit(X_MA,y)"
   ]
  },
  {
   "cell_type": "code",
   "execution_count": null,
   "id": "d057adea",
   "metadata": {},
   "outputs": [],
   "source": [
    "model.coef_"
   ]
  },
  {
   "cell_type": "code",
   "execution_count": null,
   "id": "3c9060eb",
   "metadata": {},
   "outputs": [],
   "source": [
    "model.intercept_"
   ]
  },
  {
   "cell_type": "code",
   "execution_count": null,
   "id": "b19ba27b",
   "metadata": {},
   "outputs": [],
   "source": []
  },
  {
   "cell_type": "code",
   "execution_count": null,
   "id": "a1ef35fb",
   "metadata": {},
   "outputs": [],
   "source": [
    "X"
   ]
  },
  {
   "cell_type": "code",
   "execution_count": null,
   "id": "8daa2909",
   "metadata": {},
   "outputs": [],
   "source": [
    "from sklearn.linear_model import LinearRegression\n",
    "model = LinearRegression()\n",
    "model.fit(X,y)"
   ]
  },
  {
   "cell_type": "code",
   "execution_count": null,
   "id": "d47eac0a",
   "metadata": {},
   "outputs": [],
   "source": [
    "model.coef_"
   ]
  },
  {
   "cell_type": "code",
   "execution_count": null,
   "id": "4c562405",
   "metadata": {},
   "outputs": [],
   "source": [
    "model.intercept_"
   ]
  },
  {
   "cell_type": "code",
   "execution_count": null,
   "id": "c1c884da",
   "metadata": {},
   "outputs": [],
   "source": []
  },
  {
   "cell_type": "code",
   "execution_count": null,
   "id": "c49b72a0",
   "metadata": {},
   "outputs": [],
   "source": [
    "model.predict([[45000,4,0,0]])"
   ]
  },
  {
   "cell_type": "code",
   "execution_count": null,
   "id": "a9969a47",
   "metadata": {},
   "outputs": [],
   "source": [
    "model.predict([[45000,4,1,0]])"
   ]
  },
  {
   "cell_type": "code",
   "execution_count": null,
   "id": "79983e24",
   "metadata": {},
   "outputs": [],
   "source": [
    "model.predict([[45000,4,0,1]])"
   ]
  },
  {
   "cell_type": "code",
   "execution_count": null,
   "id": "607d635b",
   "metadata": {},
   "outputs": [],
   "source": []
  },
  {
   "cell_type": "code",
   "execution_count": null,
   "id": "bb40cf07",
   "metadata": {},
   "outputs": [],
   "source": []
  },
  {
   "cell_type": "code",
   "execution_count": null,
   "id": "3b24aee9",
   "metadata": {},
   "outputs": [],
   "source": [
    "df"
   ]
  },
  {
   "cell_type": "code",
   "execution_count": null,
   "id": "86cdfcd9",
   "metadata": {},
   "outputs": [],
   "source": [
    "from sklearn.preprocessing import LabelEncoder\n",
    "le = LabelEncoder()"
   ]
  },
  {
   "cell_type": "code",
   "execution_count": null,
   "id": "24c9e1e6",
   "metadata": {},
   "outputs": [],
   "source": [
    "dfle = df\n",
    "dfle"
   ]
  },
  {
   "cell_type": "code",
   "execution_count": null,
   "id": "f89a8842",
   "metadata": {},
   "outputs": [],
   "source": [
    "dfle['Car Model'] = le.fit_transform(dfle['Car Model'])\n",
    "dfle"
   ]
  },
  {
   "cell_type": "code",
   "execution_count": null,
   "id": "5a1b948b",
   "metadata": {},
   "outputs": [],
   "source": [
    "X = dfle.drop(['Sell Price($)'],axis='columns')\n",
    "X"
   ]
  },
  {
   "cell_type": "code",
   "execution_count": null,
   "id": "ca8ab0b1",
   "metadata": {},
   "outputs": [],
   "source": [
    "y = dfle['Sell Price($)']\n",
    "y"
   ]
  },
  {
   "cell_type": "code",
   "execution_count": null,
   "id": "e515206f",
   "metadata": {},
   "outputs": [],
   "source": [
    "y = dfle['Sell Price($)'].values\n",
    "y"
   ]
  },
  {
   "cell_type": "code",
   "execution_count": null,
   "id": "0addfd6c",
   "metadata": {},
   "outputs": [],
   "source": [
    "X"
   ]
  },
  {
   "cell_type": "code",
   "execution_count": null,
   "id": "48bc20e7",
   "metadata": {},
   "outputs": [],
   "source": [
    "dfle"
   ]
  },
  {
   "cell_type": "code",
   "execution_count": null,
   "id": "725f978b",
   "metadata": {},
   "outputs": [],
   "source": [
    "X2 = dfle[['Car Model','Mileage','Age(yrs)']]\n",
    "X2"
   ]
  },
  {
   "cell_type": "code",
   "execution_count": null,
   "id": "c1372aa4",
   "metadata": {},
   "outputs": [],
   "source": [
    "X2 = dfle[['Car Model','Mileage','Age(yrs)']].values\n",
    "X2"
   ]
  },
  {
   "cell_type": "code",
   "execution_count": null,
   "id": "018a7fe0",
   "metadata": {},
   "outputs": [],
   "source": [
    "y"
   ]
  },
  {
   "cell_type": "code",
   "execution_count": null,
   "id": "5c28d839",
   "metadata": {},
   "outputs": [],
   "source": [
    "y2 = dfle['Sell Price($)'].values\n",
    "y2"
   ]
  },
  {
   "cell_type": "code",
   "execution_count": null,
   "id": "448f334c",
   "metadata": {},
   "outputs": [],
   "source": [
    "X2"
   ]
  },
  {
   "cell_type": "code",
   "execution_count": null,
   "id": "43e0b34f",
   "metadata": {},
   "outputs": [],
   "source": [
    "y2"
   ]
  },
  {
   "cell_type": "code",
   "execution_count": null,
   "id": "190e3250",
   "metadata": {},
   "outputs": [],
   "source": []
  },
  {
   "cell_type": "code",
   "execution_count": null,
   "id": "7a944f57",
   "metadata": {},
   "outputs": [],
   "source": [
    "from sklearn.preprocessing import OneHotEncoder\n",
    "from sklearn.compose import ColumnTransformer\n",
    "ct = ColumnTransformer([('Car Model', OneHotEncoder(), [0])], remainder = 'passthrough')"
   ]
  },
  {
   "cell_type": "code",
   "execution_count": null,
   "id": "ee4ed38e",
   "metadata": {},
   "outputs": [],
   "source": [
    "X2 = ct.fit_transform(X2)\n",
    "X2"
   ]
  },
  {
   "cell_type": "code",
   "execution_count": null,
   "id": "a6f02c5d",
   "metadata": {},
   "outputs": [],
   "source": [
    "X2 = X2[:]\n",
    "X2"
   ]
  },
  {
   "cell_type": "code",
   "execution_count": null,
   "id": "537acd30",
   "metadata": {},
   "outputs": [],
   "source": [
    "X2 = X2[:,1:]\n",
    "X2"
   ]
  },
  {
   "cell_type": "code",
   "execution_count": null,
   "id": "562ec9f2",
   "metadata": {},
   "outputs": [],
   "source": [
    "y2"
   ]
  },
  {
   "cell_type": "code",
   "execution_count": null,
   "id": "0924e257",
   "metadata": {},
   "outputs": [],
   "source": [
    "model.fit(X2,y2)"
   ]
  },
  {
   "cell_type": "code",
   "execution_count": null,
   "id": "2dfb6cab",
   "metadata": {},
   "outputs": [],
   "source": [
    "model.predict([[45000,4,0,0]])"
   ]
  },
  {
   "cell_type": "code",
   "execution_count": null,
   "id": "b43d7860",
   "metadata": {},
   "outputs": [],
   "source": [
    "model.predict([[0,0,45000,4]])"
   ]
  },
  {
   "cell_type": "code",
   "execution_count": null,
   "id": "0e930e22",
   "metadata": {},
   "outputs": [],
   "source": [
    "model.predict([[1,0,45000,4]])"
   ]
  },
  {
   "cell_type": "code",
   "execution_count": null,
   "id": "5e4dca87",
   "metadata": {},
   "outputs": [],
   "source": [
    "model.predict([[0,1,45000,4]])"
   ]
  },
  {
   "cell_type": "code",
   "execution_count": null,
   "id": "62b5958d",
   "metadata": {},
   "outputs": [],
   "source": [
    "model.predict([[0,1,45000,8]])"
   ]
  },
  {
   "cell_type": "code",
   "execution_count": null,
   "id": "195c4120",
   "metadata": {},
   "outputs": [],
   "source": [
    "model.predict([[0,1,30000,8]])"
   ]
  },
  {
   "cell_type": "code",
   "execution_count": null,
   "id": "34f7a85d",
   "metadata": {},
   "outputs": [],
   "source": []
  },
  {
   "cell_type": "code",
   "execution_count": null,
   "id": "f72c919b",
   "metadata": {},
   "outputs": [],
   "source": [
    "model.score(X2,y2)"
   ]
  }
 ],
 "metadata": {
  "kernelspec": {
   "display_name": "Python 3",
   "language": "python",
   "name": "python3"
  },
  "language_info": {
   "codemirror_mode": {
    "name": "ipython",
    "version": 3
   },
   "file_extension": ".py",
   "mimetype": "text/x-python",
   "name": "python",
   "nbconvert_exporter": "python",
   "pygments_lexer": "ipython3",
   "version": "3.9.5"
  }
 },
 "nbformat": 4,
 "nbformat_minor": 5
}
