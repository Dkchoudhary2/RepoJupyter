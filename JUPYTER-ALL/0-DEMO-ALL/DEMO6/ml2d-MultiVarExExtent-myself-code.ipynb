{
 "cells": [
  {
   "cell_type": "code",
   "execution_count": null,
   "id": "bbd9afad",
   "metadata": {},
   "outputs": [],
   "source": [
    "import pandas as pd\n",
    "import numpy as np\n",
    "from sklearn import linear_model\n",
    "from word2number import w2n"
   ]
  },
  {
   "cell_type": "code",
   "execution_count": null,
   "id": "1d271c67",
   "metadata": {
    "scrolled": true
   },
   "outputs": [],
   "source": [
    "d = pd.read_csv(\"hiring.csv\")\n",
    "d"
   ]
  },
  {
   "cell_type": "code",
   "execution_count": null,
   "id": "4f9cd2bd",
   "metadata": {},
   "outputs": [],
   "source": [
    "d.experience = d.experience.fillna(\"zero\")\n",
    "d"
   ]
  },
  {
   "cell_type": "code",
   "execution_count": null,
   "id": "6a9434d6",
   "metadata": {},
   "outputs": [],
   "source": [
    "d.experience = d.experience.apply(w2n.word_to_num)\n",
    "d"
   ]
  },
  {
   "cell_type": "code",
   "execution_count": null,
   "id": "49dedd32",
   "metadata": {},
   "outputs": [],
   "source": []
  },
  {
   "cell_type": "code",
   "execution_count": null,
   "id": "a6225e90",
   "metadata": {},
   "outputs": [],
   "source": [
    "import math\n",
    "median_test_score1 = d['test_score(out of 10)'].mean()\n",
    "median_test_score1"
   ]
  },
  {
   "cell_type": "code",
   "execution_count": null,
   "id": "4ea927b1",
   "metadata": {},
   "outputs": [],
   "source": []
  },
  {
   "cell_type": "code",
   "execution_count": null,
   "id": "140d01b8",
   "metadata": {},
   "outputs": [],
   "source": [
    "import math\n",
    "median_test_score = math.floor(d['test_score(out of 10)'].mean())\n",
    "median_test_score"
   ]
  },
  {
   "cell_type": "code",
   "execution_count": null,
   "id": "7f59ccb9",
   "metadata": {},
   "outputs": [],
   "source": [
    "d['test_score(out of 10)'] = d['test_score(out of 10)'].fillna(median_test_score)\n",
    "d"
   ]
  },
  {
   "cell_type": "code",
   "execution_count": null,
   "id": "043347f2",
   "metadata": {},
   "outputs": [],
   "source": [
    "reg = linear_model.LinearRegression()\n",
    "reg.fit(d[['experience','test_score(out of 10)','interview_score(out of 10)']],d['salary($)'])"
   ]
  },
  {
   "cell_type": "code",
   "execution_count": null,
   "id": "9019f5a1",
   "metadata": {},
   "outputs": [],
   "source": [
    "reg.predict([[2,9,6]])"
   ]
  },
  {
   "cell_type": "code",
   "execution_count": null,
   "id": "4919d071",
   "metadata": {},
   "outputs": [],
   "source": [
    "reg.predict([[12,10,10]])"
   ]
  },
  {
   "cell_type": "code",
   "execution_count": null,
   "id": "979c9eeb",
   "metadata": {},
   "outputs": [],
   "source": []
  },
  {
   "cell_type": "code",
   "execution_count": null,
   "id": "3085fbcf",
   "metadata": {},
   "outputs": [],
   "source": [
    "reg.predict([[15,8,9]])"
   ]
  },
  {
   "cell_type": "code",
   "execution_count": null,
   "id": "d409c263",
   "metadata": {},
   "outputs": [],
   "source": [
    "reg.predict([[12,0,10]])"
   ]
  },
  {
   "cell_type": "code",
   "execution_count": null,
   "id": "308730f6",
   "metadata": {},
   "outputs": [],
   "source": [
    "reg.predict([[0,0,10]])"
   ]
  },
  {
   "cell_type": "code",
   "execution_count": null,
   "id": "ab7eb846",
   "metadata": {},
   "outputs": [],
   "source": [
    "reg.predict([[12,0,0]])"
   ]
  },
  {
   "cell_type": "code",
   "execution_count": null,
   "id": "43b78b34",
   "metadata": {},
   "outputs": [],
   "source": [
    "reg.predict([[12,0,0]])"
   ]
  },
  {
   "cell_type": "code",
   "execution_count": null,
   "id": "7cdc0d06",
   "metadata": {},
   "outputs": [],
   "source": [
    "reg.predict([[0,0,0]])"
   ]
  },
  {
   "cell_type": "code",
   "execution_count": null,
   "id": "cf37d9bc",
   "metadata": {},
   "outputs": [],
   "source": []
  },
  {
   "cell_type": "code",
   "execution_count": null,
   "id": "e46ae8ae",
   "metadata": {},
   "outputs": [],
   "source": [
    "withoutSal_df = pd.read_csv('hiringNOsalary.csv')\n",
    "withoutSal_df"
   ]
  },
  {
   "cell_type": "code",
   "execution_count": null,
   "id": "b81145c5",
   "metadata": {},
   "outputs": [],
   "source": [
    "withoutSal_df.experience = withoutSal_df.experience.fillna(\"zero\")\n",
    "withoutSal_df"
   ]
  },
  {
   "cell_type": "code",
   "execution_count": null,
   "id": "443dcaeb",
   "metadata": {},
   "outputs": [],
   "source": [
    "withoutSal_df.experience = withoutSal_df.experience.apply(w2n.word_to_num)\n",
    "withoutSal_df"
   ]
  },
  {
   "cell_type": "code",
   "execution_count": null,
   "id": "9fba2749",
   "metadata": {},
   "outputs": [],
   "source": [
    "meanData = withoutSal_df['test_score(out of 10)'].mean()\n",
    "meanData"
   ]
  },
  {
   "cell_type": "code",
   "execution_count": null,
   "id": "3407d4ce",
   "metadata": {},
   "outputs": [],
   "source": [
    "meanData2 = math.floor(withoutSal_df['test_score(out of 10)'].mean())\n",
    "meanData2"
   ]
  },
  {
   "cell_type": "code",
   "execution_count": null,
   "id": "0630650e",
   "metadata": {},
   "outputs": [],
   "source": [
    "withoutSal_df['test_score(out of 10)'] = withoutSal_df['test_score(out of 10)'].fillna(meanData2)\n",
    "withoutSal_df"
   ]
  },
  {
   "cell_type": "code",
   "execution_count": null,
   "id": "df248291",
   "metadata": {},
   "outputs": [],
   "source": [
    "meanData3 = withoutSal_df['interview_score(out of 10)'].mean()\n",
    "meanData3"
   ]
  },
  {
   "cell_type": "code",
   "execution_count": null,
   "id": "9cbba656",
   "metadata": {},
   "outputs": [],
   "source": [
    "meanData3 = math.floor(meanData3)\n",
    "meanData3"
   ]
  },
  {
   "cell_type": "code",
   "execution_count": null,
   "id": "9344ec34",
   "metadata": {},
   "outputs": [],
   "source": [
    "withoutSal_df"
   ]
  },
  {
   "cell_type": "code",
   "execution_count": null,
   "id": "b7f1c041",
   "metadata": {},
   "outputs": [],
   "source": [
    "meanData3 = math.floor(withoutSal_df['interview_score(out of 10)'].mean())\n",
    "meanData3"
   ]
  },
  {
   "cell_type": "code",
   "execution_count": null,
   "id": "eaa633d6",
   "metadata": {},
   "outputs": [],
   "source": [
    " withoutSal_df['interview_score(out of 10)'] =  withoutSal_df['interview_score(out of 10)'].fillna(meanData3)\n",
    "withoutSal_df    "
   ]
  },
  {
   "cell_type": "code",
   "execution_count": null,
   "id": "03ed6b93",
   "metadata": {},
   "outputs": [],
   "source": []
  },
  {
   "cell_type": "code",
   "execution_count": null,
   "id": "d2c35302",
   "metadata": {},
   "outputs": [],
   "source": []
  },
  {
   "cell_type": "code",
   "execution_count": null,
   "id": "6402ce53",
   "metadata": {},
   "outputs": [],
   "source": [
    "salaryPredicted = reg.predict(withoutSal_df)\n",
    "salaryPredicted"
   ]
  },
  {
   "cell_type": "code",
   "execution_count": null,
   "id": "64ebdc9b",
   "metadata": {
    "scrolled": true
   },
   "outputs": [],
   "source": [
    "withoutSal_df['PREDICTED-SALARY'] = salaryPredicted\n",
    "withoutSal_df"
   ]
  },
  {
   "cell_type": "code",
   "execution_count": null,
   "id": "75f86b03",
   "metadata": {},
   "outputs": [],
   "source": [
    "withoutSal_df.to_csv('HIRING-PREDICTED-SALARY.csv')"
   ]
  },
  {
   "cell_type": "code",
   "execution_count": null,
   "id": "05169021",
   "metadata": {},
   "outputs": [],
   "source": [
    "hiringPredictedSal_df = pd.read_csv('HIRING-PREDICTED-SALARY.csv')\n",
    "hiringPredictedSal_df"
   ]
  }
 ],
 "metadata": {
  "kernelspec": {
   "display_name": "Python 3",
   "language": "python",
   "name": "python3"
  },
  "language_info": {
   "codemirror_mode": {
    "name": "ipython",
    "version": 3
   },
   "file_extension": ".py",
   "mimetype": "text/x-python",
   "name": "python",
   "nbconvert_exporter": "python",
   "pygments_lexer": "ipython3",
   "version": "3.9.5"
  }
 },
 "nbformat": 4,
 "nbformat_minor": 5
}
