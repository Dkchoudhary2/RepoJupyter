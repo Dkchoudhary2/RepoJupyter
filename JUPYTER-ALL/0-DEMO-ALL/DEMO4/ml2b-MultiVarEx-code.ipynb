{
 "cells": [
  {
   "cell_type": "code",
   "execution_count": null,
   "id": "bbd9afad",
   "metadata": {},
   "outputs": [],
   "source": [
    "import pandas as pd\n",
    "import numpy as np\n",
    "from sklearn import linear_model\n",
    "from word2number import w2n"
   ]
  },
  {
   "cell_type": "code",
   "execution_count": null,
   "id": "1d271c67",
   "metadata": {},
   "outputs": [],
   "source": [
    "d = pd.read_csv(\"hiring.csv\")\n",
    "d"
   ]
  },
  {
   "cell_type": "code",
   "execution_count": null,
   "id": "4f9cd2bd",
   "metadata": {},
   "outputs": [],
   "source": [
    "d.experience = d.experience.fillna(\"zero\")\n",
    "d"
   ]
  },
  {
   "cell_type": "code",
   "execution_count": null,
   "id": "6a9434d6",
   "metadata": {},
   "outputs": [],
   "source": [
    "d.experience = d.experience.apply(w2n.word_to_num)\n",
    "d"
   ]
  },
  {
   "cell_type": "code",
   "execution_count": null,
   "id": "140d01b8",
   "metadata": {},
   "outputs": [],
   "source": [
    "import math\n",
    "median_test_score = math.floor(d['test_score(out of 10)'].mean())\n",
    "median_test_score"
   ]
  },
  {
   "cell_type": "code",
   "execution_count": null,
   "id": "7f59ccb9",
   "metadata": {},
   "outputs": [],
   "source": [
    "d['test_score(out of 10)'] = d['test_score(out of 10)'].fillna(median_test_score)\n",
    "d"
   ]
  },
  {
   "cell_type": "code",
   "execution_count": null,
   "id": "043347f2",
   "metadata": {},
   "outputs": [],
   "source": [
    "reg = linear_model.LinearRegression()\n",
    "reg.fit(d[['experience','test_score(out of 10)','interview_score(out of 10)']],d['salary($)'])"
   ]
  },
  {
   "cell_type": "code",
   "execution_count": null,
   "id": "9019f5a1",
   "metadata": {},
   "outputs": [],
   "source": [
    "reg.predict([[2,9,6]])"
   ]
  },
  {
   "cell_type": "code",
   "execution_count": null,
   "id": "4919d071",
   "metadata": {},
   "outputs": [],
   "source": [
    "reg.predict([[12,10,10]])"
   ]
  },
  {
   "cell_type": "code",
   "execution_count": null,
   "id": "979c9eeb",
   "metadata": {},
   "outputs": [],
   "source": []
  }
 ],
 "metadata": {
  "kernelspec": {
   "display_name": "Python 3",
   "language": "python",
   "name": "python3"
  },
  "language_info": {
   "codemirror_mode": {
    "name": "ipython",
    "version": 3
   },
   "file_extension": ".py",
   "mimetype": "text/x-python",
   "name": "python",
   "nbconvert_exporter": "python",
   "pygments_lexer": "ipython3",
   "version": "3.9.5"
  }
 },
 "nbformat": 4,
 "nbformat_minor": 5
}
