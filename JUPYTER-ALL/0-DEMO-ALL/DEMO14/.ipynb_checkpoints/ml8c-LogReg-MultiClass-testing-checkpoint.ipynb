{
 "cells": [
  {
   "cell_type": "code",
   "execution_count": 1,
   "id": "55294976",
   "metadata": {},
   "outputs": [],
   "source": [
    "%matplotlib inline\n",
    "import matplotlib.pyplot as plt"
   ]
  },
  {
   "cell_type": "code",
   "execution_count": 2,
   "id": "e292aee0",
   "metadata": {},
   "outputs": [],
   "source": [
    "from sklearn.datasets import load_digits\n",
    "digits = load_digits()"
   ]
  },
  {
   "cell_type": "code",
   "execution_count": 3,
   "id": "fb235c6f",
   "metadata": {},
   "outputs": [
    {
     "data": {
      "text/plain": [
       "{'data': array([[ 0.,  0.,  5., ...,  0.,  0.,  0.],\n",
       "        [ 0.,  0.,  0., ..., 10.,  0.,  0.],\n",
       "        [ 0.,  0.,  0., ..., 16.,  9.,  0.],\n",
       "        ...,\n",
       "        [ 0.,  0.,  1., ...,  6.,  0.,  0.],\n",
       "        [ 0.,  0.,  2., ..., 12.,  0.,  0.],\n",
       "        [ 0.,  0., 10., ..., 12.,  1.,  0.]]),\n",
       " 'target': array([0, 1, 2, ..., 8, 9, 8]),\n",
       " 'frame': None,\n",
       " 'feature_names': ['pixel_0_0',\n",
       "  'pixel_0_1',\n",
       "  'pixel_0_2',\n",
       "  'pixel_0_3',\n",
       "  'pixel_0_4',\n",
       "  'pixel_0_5',\n",
       "  'pixel_0_6',\n",
       "  'pixel_0_7',\n",
       "  'pixel_1_0',\n",
       "  'pixel_1_1',\n",
       "  'pixel_1_2',\n",
       "  'pixel_1_3',\n",
       "  'pixel_1_4',\n",
       "  'pixel_1_5',\n",
       "  'pixel_1_6',\n",
       "  'pixel_1_7',\n",
       "  'pixel_2_0',\n",
       "  'pixel_2_1',\n",
       "  'pixel_2_2',\n",
       "  'pixel_2_3',\n",
       "  'pixel_2_4',\n",
       "  'pixel_2_5',\n",
       "  'pixel_2_6',\n",
       "  'pixel_2_7',\n",
       "  'pixel_3_0',\n",
       "  'pixel_3_1',\n",
       "  'pixel_3_2',\n",
       "  'pixel_3_3',\n",
       "  'pixel_3_4',\n",
       "  'pixel_3_5',\n",
       "  'pixel_3_6',\n",
       "  'pixel_3_7',\n",
       "  'pixel_4_0',\n",
       "  'pixel_4_1',\n",
       "  'pixel_4_2',\n",
       "  'pixel_4_3',\n",
       "  'pixel_4_4',\n",
       "  'pixel_4_5',\n",
       "  'pixel_4_6',\n",
       "  'pixel_4_7',\n",
       "  'pixel_5_0',\n",
       "  'pixel_5_1',\n",
       "  'pixel_5_2',\n",
       "  'pixel_5_3',\n",
       "  'pixel_5_4',\n",
       "  'pixel_5_5',\n",
       "  'pixel_5_6',\n",
       "  'pixel_5_7',\n",
       "  'pixel_6_0',\n",
       "  'pixel_6_1',\n",
       "  'pixel_6_2',\n",
       "  'pixel_6_3',\n",
       "  'pixel_6_4',\n",
       "  'pixel_6_5',\n",
       "  'pixel_6_6',\n",
       "  'pixel_6_7',\n",
       "  'pixel_7_0',\n",
       "  'pixel_7_1',\n",
       "  'pixel_7_2',\n",
       "  'pixel_7_3',\n",
       "  'pixel_7_4',\n",
       "  'pixel_7_5',\n",
       "  'pixel_7_6',\n",
       "  'pixel_7_7'],\n",
       " 'target_names': array([0, 1, 2, 3, 4, 5, 6, 7, 8, 9]),\n",
       " 'images': array([[[ 0.,  0.,  5., ...,  1.,  0.,  0.],\n",
       "         [ 0.,  0., 13., ..., 15.,  5.,  0.],\n",
       "         [ 0.,  3., 15., ..., 11.,  8.,  0.],\n",
       "         ...,\n",
       "         [ 0.,  4., 11., ..., 12.,  7.,  0.],\n",
       "         [ 0.,  2., 14., ..., 12.,  0.,  0.],\n",
       "         [ 0.,  0.,  6., ...,  0.,  0.,  0.]],\n",
       " \n",
       "        [[ 0.,  0.,  0., ...,  5.,  0.,  0.],\n",
       "         [ 0.,  0.,  0., ...,  9.,  0.,  0.],\n",
       "         [ 0.,  0.,  3., ...,  6.,  0.,  0.],\n",
       "         ...,\n",
       "         [ 0.,  0.,  1., ...,  6.,  0.,  0.],\n",
       "         [ 0.,  0.,  1., ...,  6.,  0.,  0.],\n",
       "         [ 0.,  0.,  0., ..., 10.,  0.,  0.]],\n",
       " \n",
       "        [[ 0.,  0.,  0., ..., 12.,  0.,  0.],\n",
       "         [ 0.,  0.,  3., ..., 14.,  0.,  0.],\n",
       "         [ 0.,  0.,  8., ..., 16.,  0.,  0.],\n",
       "         ...,\n",
       "         [ 0.,  9., 16., ...,  0.,  0.,  0.],\n",
       "         [ 0.,  3., 13., ..., 11.,  5.,  0.],\n",
       "         [ 0.,  0.,  0., ..., 16.,  9.,  0.]],\n",
       " \n",
       "        ...,\n",
       " \n",
       "        [[ 0.,  0.,  1., ...,  1.,  0.,  0.],\n",
       "         [ 0.,  0., 13., ...,  2.,  1.,  0.],\n",
       "         [ 0.,  0., 16., ..., 16.,  5.,  0.],\n",
       "         ...,\n",
       "         [ 0.,  0., 16., ..., 15.,  0.,  0.],\n",
       "         [ 0.,  0., 15., ..., 16.,  0.,  0.],\n",
       "         [ 0.,  0.,  2., ...,  6.,  0.,  0.]],\n",
       " \n",
       "        [[ 0.,  0.,  2., ...,  0.,  0.,  0.],\n",
       "         [ 0.,  0., 14., ..., 15.,  1.,  0.],\n",
       "         [ 0.,  4., 16., ..., 16.,  7.,  0.],\n",
       "         ...,\n",
       "         [ 0.,  0.,  0., ..., 16.,  2.,  0.],\n",
       "         [ 0.,  0.,  4., ..., 16.,  2.,  0.],\n",
       "         [ 0.,  0.,  5., ..., 12.,  0.,  0.]],\n",
       " \n",
       "        [[ 0.,  0., 10., ...,  1.,  0.,  0.],\n",
       "         [ 0.,  2., 16., ...,  1.,  0.,  0.],\n",
       "         [ 0.,  0., 15., ..., 15.,  0.,  0.],\n",
       "         ...,\n",
       "         [ 0.,  4., 16., ..., 16.,  6.,  0.],\n",
       "         [ 0.,  8., 16., ..., 16.,  8.,  0.],\n",
       "         [ 0.,  1.,  8., ..., 12.,  1.,  0.]]]),\n",
       " 'DESCR': \".. _digits_dataset:\\n\\nOptical recognition of handwritten digits dataset\\n--------------------------------------------------\\n\\n**Data Set Characteristics:**\\n\\n    :Number of Instances: 1797\\n    :Number of Attributes: 64\\n    :Attribute Information: 8x8 image of integer pixels in the range 0..16.\\n    :Missing Attribute Values: None\\n    :Creator: E. Alpaydin (alpaydin '@' boun.edu.tr)\\n    :Date: July; 1998\\n\\nThis is a copy of the test set of the UCI ML hand-written digits datasets\\nhttps://archive.ics.uci.edu/ml/datasets/Optical+Recognition+of+Handwritten+Digits\\n\\nThe data set contains images of hand-written digits: 10 classes where\\neach class refers to a digit.\\n\\nPreprocessing programs made available by NIST were used to extract\\nnormalized bitmaps of handwritten digits from a preprinted form. From a\\ntotal of 43 people, 30 contributed to the training set and different 13\\nto the test set. 32x32 bitmaps are divided into nonoverlapping blocks of\\n4x4 and the number of on pixels are counted in each block. This generates\\nan input matrix of 8x8 where each element is an integer in the range\\n0..16. This reduces dimensionality and gives invariance to small\\ndistortions.\\n\\nFor info on NIST preprocessing routines, see M. D. Garris, J. L. Blue, G.\\nT. Candela, D. L. Dimmick, J. Geist, P. J. Grother, S. A. Janet, and C.\\nL. Wilson, NIST Form-Based Handprint Recognition System, NISTIR 5469,\\n1994.\\n\\n.. topic:: References\\n\\n  - C. Kaynak (1995) Methods of Combining Multiple Classifiers and Their\\n    Applications to Handwritten Digit Recognition, MSc Thesis, Institute of\\n    Graduate Studies in Science and Engineering, Bogazici University.\\n  - E. Alpaydin, C. Kaynak (1998) Cascading Classifiers, Kybernetika.\\n  - Ken Tang and Ponnuthurai N. Suganthan and Xi Yao and A. Kai Qin.\\n    Linear dimensionalityreduction using relevance weighted LDA. School of\\n    Electrical and Electronic Engineering Nanyang Technological University.\\n    2005.\\n  - Claudio Gentile. A New Approximate Maximal Margin Classification\\n    Algorithm. NIPS. 2000.\\n\"}"
      ]
     },
     "execution_count": 3,
     "metadata": {},
     "output_type": "execute_result"
    }
   ],
   "source": [
    "digits"
   ]
  },
  {
   "cell_type": "code",
   "execution_count": 4,
   "id": "304745d1",
   "metadata": {},
   "outputs": [
    {
     "data": {
      "text/plain": [
       "['DESCR', 'data', 'feature_names', 'frame', 'images', 'target', 'target_names']"
      ]
     },
     "execution_count": 4,
     "metadata": {},
     "output_type": "execute_result"
    }
   ],
   "source": [
    "dir(digits)"
   ]
  },
  {
   "cell_type": "code",
   "execution_count": 5,
   "id": "38228c17",
   "metadata": {},
   "outputs": [
    {
     "data": {
      "text/plain": [
       "array([[ 0.,  0.,  5., 13.,  9.,  1.,  0.,  0.],\n",
       "       [ 0.,  0., 13., 15., 10., 15.,  5.,  0.],\n",
       "       [ 0.,  3., 15.,  2.,  0., 11.,  8.,  0.],\n",
       "       [ 0.,  4., 12.,  0.,  0.,  8.,  8.,  0.],\n",
       "       [ 0.,  5.,  8.,  0.,  0.,  9.,  8.,  0.],\n",
       "       [ 0.,  4., 11.,  0.,  1., 12.,  7.,  0.],\n",
       "       [ 0.,  2., 14.,  5., 10., 12.,  0.,  0.],\n",
       "       [ 0.,  0.,  6., 13., 10.,  0.,  0.,  0.]])"
      ]
     },
     "execution_count": 5,
     "metadata": {},
     "output_type": "execute_result"
    }
   ],
   "source": [
    "digits.images[0]"
   ]
  },
  {
   "cell_type": "code",
   "execution_count": 6,
   "id": "cd592a49",
   "metadata": {},
   "outputs": [
    {
     "data": {
      "text/plain": [
       "<matplotlib.image.AxesImage at 0x24ee8c307c0>"
      ]
     },
     "execution_count": 6,
     "metadata": {},
     "output_type": "execute_result"
    },
    {
     "data": {
      "image/png": "[encoded data removed]",
      "text/plain": [
       "<Figure size 288x288 with 1 Axes>"
      ]
     },
     "metadata": {
      "needs_background": "light"
     },
     "output_type": "display_data"
    }
   ],
   "source": [
    "plt.matshow(digits.images[0])"
   ]
  },
  {
   "cell_type": "code",
   "execution_count": 7,
   "id": "083b31f1",
   "metadata": {},
   "outputs": [
    {
     "data": {
      "text/plain": [
       "<matplotlib.image.AxesImage at 0x24ee8bcb8e0>"
      ]
     },
     "execution_count": 7,
     "metadata": {},
     "output_type": "execute_result"
    },
    {
     "data": {
      "image/png": "[encoded data removed]",
      "text/plain": [
       "<Figure size 288x288 with 1 Axes>"
      ]
     },
     "metadata": {
      "needs_background": "light"
     },
     "output_type": "display_data"
    }
   ],
   "source": [
    "#plt.gray()\n",
    "plt.matshow(digits.images[0])"
   ]
  },
  {
   "cell_type": "code",
   "execution_count": 8,
   "id": "bcd33a66",
   "metadata": {},
   "outputs": [
    {
     "data": {
      "image/png": "[encoded data removed]",
      "text/plain": [
       "<Figure size 288x288 with 1 Axes>"
      ]
     },
     "metadata": {
      "needs_background": "light"
     },
     "output_type": "display_data"
    },
    {
     "data": {
      "image/png": "[encoded data removed]",
      "text/plain": [
       "<Figure size 288x288 with 1 Axes>"
      ]
     },
     "metadata": {
      "needs_background": "light"
     },
     "output_type": "display_data"
    },
    {
     "data": {
      "image/png": "[encoded data removed]",
      "text/plain": [
       "<Figure size 288x288 with 1 Axes>"
      ]
     },
     "metadata": {
      "needs_background": "light"
     },
     "output_type": "display_data"
    },
    {
     "data": {
      "image/png": "[encoded data removed]",
      "text/plain": [
       "<Figure size 288x288 with 1 Axes>"
      ]
     },
     "metadata": {
      "needs_background": "light"
     },
     "output_type": "display_data"
    },
    {
     "data": {
      "image/png": "[encoded data removed]",
      "text/plain": [
       "<Figure size 288x288 with 1 Axes>"
      ]
     },
     "metadata": {
      "needs_background": "light"
     },
     "output_type": "display_data"
    }
   ],
   "source": [
    "#plt.gray()\n",
    "for i in range(5):\n",
    "    plt.matshow(digits.images[i])"
   ]
  },
  {
   "cell_type": "code",
   "execution_count": 9,
   "id": "5b4fc525",
   "metadata": {},
   "outputs": [
    {
     "data": {
      "text/plain": [
       "array([0, 1, 2, 3, 4, 5, 6, 7, 8, 9, 0, 1])"
      ]
     },
     "execution_count": 9,
     "metadata": {},
     "output_type": "execute_result"
    }
   ],
   "source": [
    "digits.target[:12]"
   ]
  },
  {
   "cell_type": "code",
   "execution_count": 10,
   "id": "8e148269",
   "metadata": {},
   "outputs": [],
   "source": [
    "from sklearn.linear_model import LogisticRegression\n",
    "model = LogisticRegression()"
   ]
  },
  {
   "cell_type": "code",
   "execution_count": 11,
   "id": "f7800e11",
   "metadata": {},
   "outputs": [
    {
     "data": {
      "text/plain": [
       "LogisticRegression()"
      ]
     },
     "execution_count": 11,
     "metadata": {},
     "output_type": "execute_result"
    }
   ],
   "source": [
    "model"
   ]
  },
  {
   "cell_type": "code",
   "execution_count": 12,
   "id": "676e836c",
   "metadata": {},
   "outputs": [],
   "source": [
    "from sklearn.model_selection import train_test_split\n",
    "X_train,X_test,y_train,y_test = train_test_split(digits.data,digits.target,test_size=0.2)"
   ]
  },
  {
   "cell_type": "code",
   "execution_count": 13,
   "id": "99b61cd1",
   "metadata": {},
   "outputs": [
    {
     "data": {
      "text/plain": [
       "array([[ 0.,  0.,  0., ...,  4.,  0.,  0.],\n",
       "       [ 0.,  0.,  1., ..., 14., 16.,  7.],\n",
       "       [ 0.,  0.,  4., ...,  8.,  0.,  0.],\n",
       "       ...,\n",
       "       [ 0.,  0., 11., ...,  1.,  0.,  0.],\n",
       "       [ 0.,  0., 11., ...,  0.,  0.,  0.],\n",
       "       [ 0.,  1., 13., ...,  3.,  0.,  0.]])"
      ]
     },
     "execution_count": 13,
     "metadata": {},
     "output_type": "execute_result"
    }
   ],
   "source": [
    "X_train"
   ]
  },
  {
   "cell_type": "code",
   "execution_count": 14,
   "id": "5a9084d9",
   "metadata": {},
   "outputs": [
    {
     "data": {
      "text/plain": [
       "array([[ 0.,  0.,  2., ..., 11., 16.,  6.],\n",
       "       [ 0.,  1., 10., ...,  7.,  0.,  0.],\n",
       "       [ 0.,  0.,  0., ...,  9.,  0.,  0.],\n",
       "       ...,\n",
       "       [ 0.,  0.,  0., ...,  6.,  0.,  0.],\n",
       "       [ 0.,  0.,  0., ...,  6.,  0.,  0.],\n",
       "       [ 0.,  0.,  0., ...,  1.,  0.,  0.]])"
      ]
     },
     "execution_count": 14,
     "metadata": {},
     "output_type": "execute_result"
    }
   ],
   "source": [
    "X_test"
   ]
  },
  {
   "cell_type": "code",
   "execution_count": 15,
   "id": "0f6a13a2",
   "metadata": {},
   "outputs": [
    {
     "data": {
      "text/plain": [
       "1437"
      ]
     },
     "execution_count": 15,
     "metadata": {},
     "output_type": "execute_result"
    }
   ],
   "source": [
    "len(X_train)"
   ]
  },
  {
   "cell_type": "code",
   "execution_count": 16,
   "id": "6c27a157",
   "metadata": {},
   "outputs": [
    {
     "data": {
      "text/plain": [
       "360"
      ]
     },
     "execution_count": 16,
     "metadata": {},
     "output_type": "execute_result"
    }
   ],
   "source": [
    "len(X_test)"
   ]
  },
  {
   "cell_type": "code",
   "execution_count": 17,
   "id": "60fc328a",
   "metadata": {},
   "outputs": [
    {
     "data": {
      "text/plain": [
       "1797"
      ]
     },
     "execution_count": 17,
     "metadata": {},
     "output_type": "execute_result"
    }
   ],
   "source": [
    "len(digits.data)"
   ]
  },
  {
   "cell_type": "code",
   "execution_count": 18,
   "id": "2cc85109",
   "metadata": {},
   "outputs": [
    {
     "name": "stderr",
     "output_type": "stream",
     "text": [
      "C:\\Users\\home\\AppData\\Roaming\\Python\\Python39\\site-packages\\sklearn\\linear_model\\_logistic.py:814: ConvergenceWarning: lbfgs failed to converge (status=1):\n",
      "STOP: TOTAL NO. of ITERATIONS REACHED LIMIT.\n",
      "\n",
      "Increase the number of iterations (max_iter) or scale the data as shown in:\n",
      "    https://scikit-learn.org/stable/modules/preprocessing.html\n",
      "Please also refer to the documentation for alternative solver options:\n",
      "    https://scikit-learn.org/stable/modules/linear_model.html#logistic-regression\n",
      "  n_iter_i = _check_optimize_result(\n"
     ]
    },
    {
     "data": {
      "text/plain": [
       "LogisticRegression()"
      ]
     },
     "execution_count": 18,
     "metadata": {},
     "output_type": "execute_result"
    }
   ],
   "source": [
    "model.fit(X_train,y_train)"
   ]
  },
  {
   "cell_type": "code",
   "execution_count": 19,
   "id": "926d879f",
   "metadata": {},
   "outputs": [
    {
     "data": {
      "text/plain": [
       "array([2, 3, 6, 5, 8, 8, 4, 0, 7, 0, 4, 7, 9, 5, 0, 9, 5, 4, 1, 2, 1, 9,\n",
       "       3, 6, 8, 0, 1, 8, 1, 0, 5, 3, 0, 2, 2, 2, 4, 5, 4, 9, 8, 6, 1, 8,\n",
       "       1, 4, 2, 0, 9, 8, 5, 6, 2, 1, 1, 3, 0, 9, 9, 3, 2, 8, 5, 1, 5, 4,\n",
       "       8, 3, 2, 7, 7, 7, 4, 3, 3, 1, 2, 6, 5, 3, 2, 1, 8, 1, 5, 4, 7, 4,\n",
       "       2, 5, 3, 6, 2, 1, 9, 6, 3, 0, 7, 9, 2, 5, 7, 9, 8, 1, 2, 8, 0, 9,\n",
       "       2, 0, 4, 1, 9, 9, 7, 1, 0, 4, 3, 7, 7, 9, 8, 5, 8, 8, 9, 9, 2, 7,\n",
       "       3, 2, 4, 3, 5, 6, 4, 8, 5, 9, 6, 2, 9, 7, 2, 9, 5, 5, 6, 4, 4, 7,\n",
       "       5, 7, 1, 1, 2, 2, 2, 1, 6, 8, 2, 1, 9, 5, 3, 2, 6, 2, 3, 1, 3, 1,\n",
       "       2, 0, 4, 8, 3, 3, 4, 1, 1, 8, 4, 3, 6, 4, 9, 2, 6, 8, 6, 1, 7, 2,\n",
       "       8, 5, 3, 4, 9, 3, 3, 4, 4, 3, 2, 8, 6, 1, 9, 9, 9, 5, 0, 1, 6, 6,\n",
       "       5, 5, 0, 8, 4, 6, 1, 6, 3, 2, 8, 8, 3, 8, 8, 8, 6, 3, 6, 9, 1, 8,\n",
       "       1, 8, 9, 3, 4, 8, 8, 3, 7, 4, 4, 9, 8, 3, 9, 5, 3, 1, 7, 9, 5, 5,\n",
       "       6, 0, 7, 6, 7, 0, 5, 5, 1, 9, 9, 7, 9, 0, 5, 4, 3, 3, 7, 7, 0, 2,\n",
       "       3, 0, 0, 0, 7, 8, 7, 7, 5, 5, 1, 4, 5, 0, 1, 5, 6, 3, 8, 5, 9, 1,\n",
       "       3, 3, 7, 3, 5, 4, 5, 2, 1, 9, 2, 3, 9, 8, 0, 1, 1, 0, 5, 5, 3, 6,\n",
       "       4, 6, 6, 2, 0, 2, 0, 7, 0, 3, 3, 8, 3, 6, 1, 1, 5, 3, 7, 6, 8, 8,\n",
       "       9, 0, 4, 1, 1, 9, 4, 7])"
      ]
     },
     "execution_count": 19,
     "metadata": {},
     "output_type": "execute_result"
    }
   ],
   "source": [
    "model.predict(X_test)"
   ]
  },
  {
   "cell_type": "code",
   "execution_count": 20,
   "id": "2d342179",
   "metadata": {},
   "outputs": [
    {
     "data": {
      "text/plain": [
       "array([2, 3, 6, 5, 8, 8, 4, 0, 7, 0, 4, 7, 9, 5, 0, 9, 5, 7, 1, 2, 1, 9,\n",
       "       3, 6, 8, 0, 8, 8, 1, 0, 5, 3, 0, 2, 2, 2, 4, 5, 4, 9, 8, 6, 1, 8,\n",
       "       1, 4, 2, 0, 9, 8, 5, 6, 2, 1, 1, 3, 0, 9, 9, 5, 2, 8, 5, 1, 5, 4,\n",
       "       8, 3, 2, 7, 7, 7, 4, 3, 3, 1, 2, 6, 5, 3, 2, 1, 8, 1, 5, 4, 7, 4,\n",
       "       2, 5, 3, 6, 2, 1, 9, 6, 3, 0, 7, 9, 2, 5, 7, 9, 8, 1, 2, 8, 0, 9,\n",
       "       2, 0, 4, 1, 9, 9, 7, 1, 0, 4, 3, 7, 7, 9, 8, 5, 8, 8, 9, 9, 2, 7,\n",
       "       3, 2, 4, 3, 5, 6, 0, 8, 5, 9, 6, 2, 5, 7, 2, 9, 5, 5, 6, 4, 1, 7,\n",
       "       5, 7, 1, 1, 2, 2, 2, 1, 6, 8, 2, 1, 9, 5, 3, 2, 6, 2, 3, 1, 3, 1,\n",
       "       2, 0, 4, 8, 3, 3, 4, 5, 1, 8, 4, 3, 6, 4, 9, 2, 6, 8, 6, 1, 7, 2,\n",
       "       8, 5, 3, 4, 9, 3, 3, 5, 4, 3, 2, 3, 6, 1, 9, 9, 9, 5, 0, 1, 6, 6,\n",
       "       5, 5, 0, 8, 4, 5, 1, 6, 3, 2, 8, 8, 3, 8, 8, 8, 6, 3, 6, 9, 1, 8,\n",
       "       1, 8, 9, 3, 4, 8, 8, 3, 7, 4, 4, 9, 8, 3, 9, 5, 3, 1, 7, 9, 5, 5,\n",
       "       6, 0, 7, 6, 7, 0, 5, 5, 1, 9, 9, 7, 9, 0, 6, 4, 3, 3, 7, 7, 0, 2,\n",
       "       3, 0, 0, 0, 7, 8, 7, 7, 5, 5, 1, 4, 5, 0, 1, 5, 6, 3, 8, 5, 9, 2,\n",
       "       3, 3, 7, 3, 5, 4, 5, 2, 1, 9, 2, 3, 9, 8, 0, 1, 1, 0, 5, 5, 3, 6,\n",
       "       4, 6, 6, 2, 0, 2, 0, 7, 0, 3, 3, 8, 3, 6, 1, 1, 5, 3, 7, 6, 8, 8,\n",
       "       9, 0, 4, 1, 8, 9, 4, 7])"
      ]
     },
     "execution_count": 20,
     "metadata": {},
     "output_type": "execute_result"
    }
   ],
   "source": [
    "y_test"
   ]
  },
  {
   "cell_type": "code",
   "execution_count": 21,
   "id": "2b070995",
   "metadata": {},
   "outputs": [
    {
     "data": {
      "text/plain": [
       "0.9638888888888889"
      ]
     },
     "execution_count": 21,
     "metadata": {},
     "output_type": "execute_result"
    }
   ],
   "source": [
    "model.score(X_test,y_test)"
   ]
  },
  {
   "cell_type": "code",
   "execution_count": 22,
   "id": "af1a7b70",
   "metadata": {},
   "outputs": [],
   "source": [
    "y_predicted = model.predict(X_test)"
   ]
  },
  {
   "cell_type": "code",
   "execution_count": 23,
   "id": "99bffff8",
   "metadata": {},
   "outputs": [
    {
     "data": {
      "text/plain": [
       "array([2, 3, 6, 5, 8, 8, 4, 0, 7, 0, 4, 7, 9, 5, 0, 9, 5, 4, 1, 2, 1, 9,\n",
       "       3, 6, 8, 0, 1, 8, 1, 0, 5, 3, 0, 2, 2, 2, 4, 5, 4, 9, 8, 6, 1, 8,\n",
       "       1, 4, 2, 0, 9, 8, 5, 6, 2, 1, 1, 3, 0, 9, 9, 3, 2, 8, 5, 1, 5, 4,\n",
       "       8, 3, 2, 7, 7, 7, 4, 3, 3, 1, 2, 6, 5, 3, 2, 1, 8, 1, 5, 4, 7, 4,\n",
       "       2, 5, 3, 6, 2, 1, 9, 6, 3, 0, 7, 9, 2, 5, 7, 9, 8, 1, 2, 8, 0, 9,\n",
       "       2, 0, 4, 1, 9, 9, 7, 1, 0, 4, 3, 7, 7, 9, 8, 5, 8, 8, 9, 9, 2, 7,\n",
       "       3, 2, 4, 3, 5, 6, 4, 8, 5, 9, 6, 2, 9, 7, 2, 9, 5, 5, 6, 4, 4, 7,\n",
       "       5, 7, 1, 1, 2, 2, 2, 1, 6, 8, 2, 1, 9, 5, 3, 2, 6, 2, 3, 1, 3, 1,\n",
       "       2, 0, 4, 8, 3, 3, 4, 1, 1, 8, 4, 3, 6, 4, 9, 2, 6, 8, 6, 1, 7, 2,\n",
       "       8, 5, 3, 4, 9, 3, 3, 4, 4, 3, 2, 8, 6, 1, 9, 9, 9, 5, 0, 1, 6, 6,\n",
       "       5, 5, 0, 8, 4, 6, 1, 6, 3, 2, 8, 8, 3, 8, 8, 8, 6, 3, 6, 9, 1, 8,\n",
       "       1, 8, 9, 3, 4, 8, 8, 3, 7, 4, 4, 9, 8, 3, 9, 5, 3, 1, 7, 9, 5, 5,\n",
       "       6, 0, 7, 6, 7, 0, 5, 5, 1, 9, 9, 7, 9, 0, 5, 4, 3, 3, 7, 7, 0, 2,\n",
       "       3, 0, 0, 0, 7, 8, 7, 7, 5, 5, 1, 4, 5, 0, 1, 5, 6, 3, 8, 5, 9, 1,\n",
       "       3, 3, 7, 3, 5, 4, 5, 2, 1, 9, 2, 3, 9, 8, 0, 1, 1, 0, 5, 5, 3, 6,\n",
       "       4, 6, 6, 2, 0, 2, 0, 7, 0, 3, 3, 8, 3, 6, 1, 1, 5, 3, 7, 6, 8, 8,\n",
       "       9, 0, 4, 1, 1, 9, 4, 7])"
      ]
     },
     "execution_count": 23,
     "metadata": {},
     "output_type": "execute_result"
    }
   ],
   "source": [
    "y_predicted"
   ]
  },
  {
   "cell_type": "code",
   "execution_count": 24,
   "id": "f84db95d",
   "metadata": {},
   "outputs": [
    {
     "data": {
      "text/plain": [
       "array([[29,  0,  0,  0,  1,  0,  0,  0,  0,  0],\n",
       "       [ 0, 38,  0,  0,  1,  0,  0,  0,  0,  0],\n",
       "       [ 0,  1, 36,  0,  0,  0,  0,  0,  0,  0],\n",
       "       [ 0,  0,  0, 43,  0,  0,  0,  0,  1,  0],\n",
       "       [ 0,  0,  0,  0, 29,  0,  0,  0,  0,  0],\n",
       "       [ 0,  1,  0,  1,  1, 38,  1,  0,  0,  1],\n",
       "       [ 0,  0,  0,  0,  0,  1, 29,  0,  0,  0],\n",
       "       [ 0,  0,  0,  0,  1,  0,  0, 30,  0,  0],\n",
       "       [ 0,  2,  0,  0,  0,  0,  0,  0, 38,  0],\n",
       "       [ 0,  0,  0,  0,  0,  0,  0,  0,  0, 37]], dtype=int64)"
      ]
     },
     "execution_count": 24,
     "metadata": {},
     "output_type": "execute_result"
    }
   ],
   "source": [
    "from sklearn.metrics import confusion_matrix\n",
    "cm = confusion_matrix(y_test,y_predicted)\n",
    "cm"
   ]
  },
  {
   "cell_type": "code",
   "execution_count": null,
   "id": "24924a39",
   "metadata": {},
   "outputs": [],
   "source": []
  },
  {
   "cell_type": "code",
   "execution_count": 25,
   "id": "d7ae25f5",
   "metadata": {},
   "outputs": [
    {
     "name": "stdout",
     "output_type": "stream",
     "text": [
      "Note: you may need to restart the kernel to use updated packages.\n"
     ]
    },
    {
     "name": "stderr",
     "output_type": "stream",
     "text": [
      "'c:\\program' is not recognized as an internal or external command,\n",
      "operable program or batch file.\n"
     ]
    }
   ],
   "source": [
    "pip install seaborn"
   ]
  },
  {
   "cell_type": "code",
   "execution_count": 26,
   "id": "cb63fda5",
   "metadata": {},
   "outputs": [
    {
     "data": {
      "text/plain": [
       "Text(69.0, 0.5, 'Truth')"
      ]
     },
     "execution_count": 26,
     "metadata": {},
     "output_type": "execute_result"
    },
    {
     "data": {
      "image/png": "[encoded data removed]",
      "text/plain": [
       "<Figure size 720x504 with 2 Axes>"
      ]
     },
     "metadata": {
      "needs_background": "light"
     },
     "output_type": "display_data"
    }
   ],
   "source": [
    "import seaborn as sn\n",
    "plt.figure(figsize=(10,7))\n",
    "sn.heatmap(cm,annot=True)\n",
    "plt.xlabel('predicted')\n",
    "plt.ylabel('Truth')"
   ]
  },
  {
   "cell_type": "code",
   "execution_count": null,
   "id": "191e6f94",
   "metadata": {},
   "outputs": [],
   "source": []
  }
 ],
 "metadata": {
  "kernelspec": {
   "display_name": "Python 3",
   "language": "python",
   "name": "python3"
  },
  "language_info": {
   "codemirror_mode": {
    "name": "ipython",
    "version": 3
   },
   "file_extension": ".py",
   "mimetype": "text/x-python",
   "name": "python",
   "nbconvert_exporter": "python",
   "pygments_lexer": "ipython3",
   "version": "3.9.5"
  }
 },
 "nbformat": 4,
 "nbformat_minor": 5
}
